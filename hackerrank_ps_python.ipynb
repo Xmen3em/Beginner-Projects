{
 "cells": [
  {
   "cell_type": "markdown",
   "metadata": {},
   "source": [
    "## collections.counter()"
   ]
  },
  {
   "cell_type": "code",
   "execution_count": 5,
   "metadata": {},
   "outputs": [
    {
     "name": "stdout",
     "output_type": "stream",
     "text": [
      "200\n"
     ]
    }
   ],
   "source": [
    "from collections import Counter\n",
    "\n",
    "n = int(input()) # number of shoes\n",
    "s = list(map(int, input().split())) # list of sizes of shoes\n",
    "s = Counter(s)\n",
    "N = int(input()) # number of cutomers\n",
    "\n",
    "total_money = 0\n",
    "\n",
    "for i in range(N):  # loop over the desired size and prices\n",
    "    d_size, price = input().split()\n",
    "    d_size = int(d_size)\n",
    "    price = int(price)\n",
    "\n",
    "    if d_size in s.keys():\n",
    "        if s[d_size] != 0:\n",
    "            total_money += price\n",
    "            s[d_size] -= 1\n",
    "            \n",
    "print(total_money)"
   ]
  },
  {
   "cell_type": "markdown",
   "metadata": {},
   "source": [
    "## DefaultDict Tutorial"
   ]
  },
  {
   "cell_type": "code",
   "execution_count": 1,
   "metadata": {},
   "outputs": [],
   "source": [
    "from collections import defaultdict\n",
    "\n",
    "A ,B = list(map(int, input().split()))\n",
    "\n",
    "words_A = []\n",
    "for i in range(A):\n",
    "    words_A.append(input())\n",
    "    lengths = [len(word) for word in words_A]\n",
    "    if lengths == A:\n",
    "        break\n",
    "\n",
    "\n",
    "words_B = []\n",
    "for j in range(B):\n",
    "    words_B.append(input())\n",
    "    lengths = [len(word) for word in words_B]\n",
    "    if lengths == B:\n",
    "        break\n",
    "\n",
    "occs = defaultdict(list)\n",
    "for i in words_B:\n",
    "    count = 0\n",
    "    z = 0\n",
    "    for j in words_A:\n",
    "        count += 1\n",
    "        if i == j:\n",
    "            occs[i].append(count)\n",
    "            z = 1\n",
    "    if z != 1:\n",
    "        occs[i].append(-1)\n",
    "        \n",
    "\n",
    "for i in occs:\n",
    "    print(' '.join(map(str, occs[i])))"
   ]
  },
  {
   "cell_type": "markdown",
   "metadata": {},
   "source": [
    "## collections.namedtuple()"
   ]
  },
  {
   "cell_type": "code",
   "execution_count": 3,
   "metadata": {},
   "outputs": [
    {
     "data": {
      "text/plain": [
       "(point(x=1, y=2), point(x=3, y=4))"
      ]
     },
     "execution_count": 3,
     "metadata": {},
     "output_type": "execute_result"
    }
   ],
   "source": [
    "from collections import namedtuple\n",
    "point = namedtuple('point', 'x, y')\n",
    "pt1 = point(1, 2)\n",
    "pt2 = point(3, 4)\n",
    "pt1, pt2"
   ]
  },
  {
   "cell_type": "code",
   "execution_count": 14,
   "metadata": {},
   "outputs": [
    {
     "name": "stdout",
     "output_type": "stream",
     "text": [
      "78.0\n"
     ]
    }
   ],
   "source": [
    "from collections import namedtuple\n",
    "\n",
    "input_ = int(input())\n",
    "my_fields = input().split()\n",
    "total_marks = 0\n",
    "\n",
    "for _ in range(input_):\n",
    "    students = namedtuple('my_student', my_fields)\n",
    "    MARKS, CLASS, NAME, ID = input().split()\n",
    "    my_student = students(MARKS, CLASS, NAME, ID)\n",
    "    total_marks += int(my_student.MARKS)\n",
    "    \n",
    "print((total_marks / input_))"
   ]
  },
  {
   "cell_type": "markdown",
   "metadata": {},
   "source": [
    "## collections.OrderedDict"
   ]
  },
  {
   "cell_type": "code",
   "execution_count": 25,
   "metadata": {},
   "outputs": [
    {
     "name": "stdout",
     "output_type": "stream",
     "text": [
      "BANANA FRIES 12\n",
      "POTATO CHIPS 60\n",
      "APPLE JUICE 20\n",
      "CANDY 20\n"
     ]
    }
   ],
   "source": [
    "from collections import OrderedDict\n",
    "N = int(input())\n",
    "Shopping_list = OrderedDict()\n",
    "\n",
    "for _ in range(N):\n",
    "     \n",
    "    item_info = input().split()\n",
    "    item_name = ' '.join(item_info[:-1])\n",
    "    item_price = int(item_info[-1])\n",
    "\n",
    "    if item_name in Shopping_list:\n",
    "        Shopping_list[item_name] += item_price\n",
    "        continue\n",
    "    else:\n",
    "        Shopping_list[item_name] = item_price \n",
    "\n",
    "for item_name, item_price in Shopping_list.items():\n",
    "        print(item_name, item_price)"
   ]
  },
  {
   "cell_type": "markdown",
   "metadata": {},
   "source": [
    "## collections.deque()"
   ]
  },
  {
   "cell_type": "code",
   "execution_count": 39,
   "metadata": {},
   "outputs": [],
   "source": [
    "# Perform append, pop, popleft and appendleft methods on an empty deque\n",
    "from collections import deque\n",
    "\n",
    "n = int(input())  # number of operations\n",
    "d = deque()  \n",
    "\n",
    "for i in range(n):\n",
    "    operation = input().split()\n",
    "\n",
    "    if operation[0] == 'append':\n",
    "        d.append(int(operation[1]))\n",
    "\n",
    "    elif operation[0] == 'pop':\n",
    "        d.pop()\n",
    "\n",
    "    elif operation[0] == 'popleft':\n",
    "        d.popleft()\n",
    "\n",
    "    elif operation[0] == 'appendleft':\n",
    "        d.appendleft(int(operation[1]))\n",
    "\n",
    "for i in d:\n",
    "    print(i, end = ' ')"
   ]
  },
  {
   "cell_type": "markdown",
   "metadata": {},
   "source": [
    "## Word Order"
   ]
  },
  {
   "cell_type": "code",
   "execution_count": 4,
   "metadata": {},
   "outputs": [
    {
     "name": "stdout",
     "output_type": "stream",
     "text": [
      "3\n",
      "2 1 1\n"
     ]
    }
   ],
   "source": [
    "from collections import Counter,OrderedDict\n",
    "\n",
    "ordered_dict = OrderedDict()\n",
    "for i in range(int(input())):\n",
    "    string = input()\n",
    "\n",
    "    if string in ordered_dict:\n",
    "        ordered_dict[string] += 1\n",
    "    else:\n",
    "        ordered_dict[string] = 1\n",
    "\n",
    "print(len(ordered_dict.keys()))\n",
    "print(*ordered_dict.values())"
   ]
  },
  {
   "cell_type": "markdown",
   "metadata": {},
   "source": [
    "## Pilling Up!"
   ]
  },
  {
   "cell_type": "code",
   "execution_count": 67,
   "metadata": {},
   "outputs": [
    {
     "name": "stdout",
     "output_type": "stream",
     "text": [
      "No\n"
     ]
    }
   ],
   "source": [
    "from collections import deque\n",
    "import math\n",
    "\n",
    "t = int(input())\n",
    "for i in range(t):\n",
    "    ord = deque()\n",
    "    n = int(input())\n",
    "    l = list(map(int, input().split()))\n",
    "    ord.extend(l)\n",
    "    left = []\n",
    "    right = []\n",
    "    a = 0\n",
    "    z = 0\n",
    "    lenght = len(ord)\n",
    "    if len(ord) % 2 == 0:\n",
    "        a = 1\n",
    "\n",
    "    for j in range(0, math.ceil(lenght / 2)):\n",
    "\n",
    "        if a == 1:\n",
    "            left.append(ord.popleft())\n",
    "            right.append(ord.pop())\n",
    "            if left[j] + right[j] > left + right[j-1]:\n",
    "                print('No')\n",
    "                z = 1\n",
    "                break\n",
    "\n",
    "        else:\n",
    "\n",
    "            if j == math.ceil(lenght / 2) - 1:\n",
    "                left.append(ord.popleft())\n",
    "                if left[j] >= left[j-1] + right[j-1]:\n",
    "                    print('No')\n",
    "                    z = 1\n",
    "                    break\n",
    "            else:\n",
    "                left.append(ord.popleft())\n",
    "                right.append(ord.pop())\n",
    "                if left[j] + right[j] > left[j-1] + right[j-1]:\n",
    "                    print('No')\n",
    "                    z = 1\n",
    "                    break\n",
    "        \n",
    "\n",
    "    if z == 0:\n",
    "        print('Yes')"
   ]
  },
  {
   "cell_type": "code",
   "execution_count": 68,
   "metadata": {},
   "outputs": [
    {
     "name": "stdout",
     "output_type": "stream",
     "text": [
      "No\n"
     ]
    }
   ],
   "source": [
    "num_test_cases = int(input())\n",
    "for _ in range(num_test_cases):\n",
    "    _ = int(input())\n",
    "    list_blocks = deque(map(int, input().split(' ')))\n",
    "    vertical_pile = []\n",
    "\n",
    "    while len(list_blocks) > 0:\n",
    "        if list_blocks[-1] > list_blocks[0]:\n",
    "            block_removed = list_blocks.pop()\n",
    "        else:\n",
    "            block_removed = list_blocks.popleft()\n",
    "        vertical_pile.append(block_removed)\n",
    "\n",
    "    if all(vertical_pile[i] >= vertical_pile[i+1] for i in range(len(vertical_pile)-1)):\n",
    "        print(\"Yes\")\n",
    "    else:\n",
    "        print(\"No\")\n"
   ]
  },
  {
   "cell_type": "markdown",
   "metadata": {},
   "source": [
    "## Calendar Module"
   ]
  },
  {
   "cell_type": "code",
   "execution_count": 16,
   "metadata": {},
   "outputs": [
    {
     "name": "stdout",
     "output_type": "stream",
     "text": [
      "WEDNESDAY\n"
     ]
    }
   ],
   "source": [
    "import calendar\n",
    "m, d, y = input().split()\n",
    "day = calendar.weekday(int(y), int(m), int(d))\n",
    "class_names_days = ['Monday', 'Tuesday', 'Wednesday', 'Thursday', 'Friday', 'Saturday', 'Sunday']\n",
    "print(class_names_days[day].upper())"
   ]
  },
  {
   "cell_type": "markdown",
   "metadata": {},
   "source": [
    "## Exceptions"
   ]
  },
  {
   "cell_type": "code",
   "execution_count": 21,
   "metadata": {},
   "outputs": [
    {
     "name": "stdout",
     "output_type": "stream",
     "text": [
      "Error Code: integer division or modulo by zero\n",
      "Error Code: invalid literal for int() with base 10: '&'\n",
      "3\n"
     ]
    }
   ],
   "source": [
    "test_cases = int(input())\n",
    "for i in range(test_cases):\n",
    "    a, b = input().split()\n",
    "    try:\n",
    "        print(int(a)//int(b))\n",
    "    except ValueError as v:\n",
    "        print(f'Error Code: {v}')\n",
    "    except ZeroDivisionError as e:\n",
    "        print(f'Error Code: {e}')"
   ]
  },
  {
   "cell_type": "markdown",
   "metadata": {},
   "source": [
    "## Incorrect Regex\n"
   ]
  },
  {
   "cell_type": "code",
   "execution_count": 7,
   "metadata": {},
   "outputs": [
    {
     "name": "stdout",
     "output_type": "stream",
     "text": [
      "True\n",
      "False\n"
     ]
    }
   ],
   "source": [
    "import re\n",
    "\n",
    "def is_valid_regex(pattern):\n",
    "    try:\n",
    "        re.compile(pattern)\n",
    "        return True\n",
    "    except re.error:\n",
    "        return False\n",
    "    \n",
    "test_cases = int(input())\n",
    "for i in range(test_cases):\n",
    "    a = input()\n",
    "    print(is_valid_regex(a))"
   ]
  },
  {
   "cell_type": "markdown",
   "metadata": {},
   "source": [
    "## Zipped!"
   ]
  },
  {
   "cell_type": "code",
   "execution_count": 45,
   "metadata": {},
   "outputs": [
    {
     "name": "stdout",
     "output_type": "stream",
     "text": [
      "90.0\n",
      "91.0\n",
      "82.0\n",
      "90.0\n",
      "85.5\n"
     ]
    }
   ],
   "source": [
    "import pandas as pd\n",
    "import numpy as np\n",
    "\n",
    "n, s = input().split()\n",
    "table = pd.DataFrame()\n",
    "\n",
    "for i in range(int(s)):\n",
    "    subject = list(map(float, input().split()))\n",
    "    table[str(i)] = subject\n",
    "\n",
    "a = np.average(table, axis=1)\n",
    "for i in a:\n",
    "    print(i)"
   ]
  },
  {
   "cell_type": "markdown",
   "metadata": {},
   "source": [
    "## input()"
   ]
  },
  {
   "cell_type": "code",
   "execution_count": 65,
   "metadata": {},
   "outputs": [
    {
     "name": "stdout",
     "output_type": "stream",
     "text": [
      "True\n"
     ]
    }
   ],
   "source": [
    "x, k = input().split()\n",
    "p = input()\n",
    "p = p.replace('x', x)\n",
    "if eval(p) == int(k):\n",
    "    print(True)\n",
    "else :\n",
    "     print(False)"
   ]
  },
  {
   "cell_type": "markdown",
   "metadata": {},
   "source": [
    "## Athlete Sort"
   ]
  },
  {
   "cell_type": "code",
   "execution_count": 8,
   "metadata": {},
   "outputs": [
    {
     "name": "stdout",
     "output_type": "stream",
     "text": [
      "7 1 0\n",
      "10 2 5\n",
      "6 5 9\n",
      "9 9 9\n",
      "1 23 12\n"
     ]
    }
   ],
   "source": [
    "#!/bin/python3\n",
    "\n",
    "import math\n",
    "import os\n",
    "import random\n",
    "import re\n",
    "import sys\n",
    "\n",
    "\n",
    "if __name__ == '__main__':\n",
    "    n, m = input().split()\n",
    "\n",
    "    n = int(n)\n",
    "\n",
    "    m = int(m)\n",
    "\n",
    "    arr = []\n",
    "\n",
    "    for _ in range(n):\n",
    "        arr.append(list(map(int, input().rstrip().split())))\n",
    "\n",
    "    k = int(input())\n",
    "\n",
    "    arr.sort(key = lambda x: x[k])\n",
    "\n",
    "    for  i in arr:\n",
    "        print(*i)"
   ]
  },
  {
   "cell_type": "markdown",
   "metadata": {},
   "source": [
    "## Any or True"
   ]
  },
  {
   "cell_type": "code",
   "execution_count": 10,
   "metadata": {},
   "outputs": [
    {
     "name": "stdout",
     "output_type": "stream",
     "text": [
      "True\n"
     ]
    }
   ],
   "source": [
    "n = int(input())\n",
    "nums = list(map(int, input().split()))\n",
    "print(all([i > 0 for i in nums]) and any([str(i) == str(i)[::-1] for i in nums]))"
   ]
  },
  {
   "cell_type": "markdown",
   "metadata": {},
   "source": [
    "## ginortS"
   ]
  },
  {
   "cell_type": "code",
   "execution_count": 84,
   "metadata": {},
   "outputs": [
    {
     "name": "stdout",
     "output_type": "stream",
     "text": [
      "abcdefghijklmnopqrstuvwxyzABCDEFGHIJKLMNOPQRSTUVWXYZ1357902468\n"
     ]
    }
   ],
   "source": [
    "string = input()\n",
    "\n",
    "string_in_list = []\n",
    "string_in_list.append([i for i in string if i.islower()])\n",
    "l = []\n",
    "for i in string_in_list:\n",
    "    if i:\n",
    "        l.append(''.join(i))\n",
    "lower_sort = ''.join(sorted(l[0]))\n",
    "\n",
    "string_in_list.clear()\n",
    "string_in_list.append([i for i in string if i.isupper()])\n",
    "l = []\n",
    "for i in string_in_list:\n",
    "    if i:\n",
    "        l.append(''.join(i))\n",
    "upper_sort = lower_sort + ''.join(sorted(l[0]))\n",
    "\n",
    "string_in_list.clear()\n",
    "digit = [i for i in string if i.isdigit()]\n",
    "string_in_list.append([i for i in digit if int(i) % 2 != 0])\n",
    "l = []\n",
    "for i in string_in_list:\n",
    "    if i:\n",
    "        l.append(''.join(i))\n",
    "odd_sort = ''.join(sorted(l[0]))\n",
    "string_in_list.clear()\n",
    "string_in_list.append([i for i in digit if int(i) % 2 == 0])\n",
    "l = []\n",
    "for i in string_in_list:\n",
    "    if i:\n",
    "        l.append(''.join(i))\n",
    "odd_sort += ''.join(sorted(l[0]))\n",
    "\n",
    "print(upper_sort+odd_sort)"
   ]
  },
  {
   "cell_type": "markdown",
   "metadata": {},
   "source": [
    "## Reduce Function"
   ]
  },
  {
   "cell_type": "code",
   "execution_count": null,
   "metadata": {},
   "outputs": [],
   "source": [
    "from fractions import Fraction\n",
    "from functools import reduce\n",
    "\n",
    "def product(fracs):\n",
    "    t = reduce(lambda x, y : x * y, fracs)\n",
    "    return t.numerator, t.denominator\n",
    "\n",
    "if __name__ == '__main__':\n",
    "    fracs = []\n",
    "    for _ in range(int(input())):\n",
    "        fracs.append(Fraction(*map(int, input().split())))\n",
    "    result = product(fracs)\n",
    "    print(*result)"
   ]
  },
  {
   "cell_type": "markdown",
   "metadata": {},
   "source": [
    "## Detect Floating Point"
   ]
  },
  {
   "cell_type": "code",
   "execution_count": null,
   "metadata": {},
   "outputs": [],
   "source": [
    "# Enter your code here. Read input from STDIN. Print output to STDOUT\n",
    "from re import match, compile\n",
    "\n",
    "pattern = compile('^[-+]?[0-9]*\\.[0-9]+$')\n",
    "for _ in range(int(input())):\n",
    "    print(bool(pattern.match(input())))"
   ]
  }
 ],
 "metadata": {
  "kernelspec": {
   "display_name": "base",
   "language": "python",
   "name": "python3"
  },
  "language_info": {
   "codemirror_mode": {
    "name": "ipython",
    "version": 3
   },
   "file_extension": ".py",
   "mimetype": "text/x-python",
   "name": "python",
   "nbconvert_exporter": "python",
   "pygments_lexer": "ipython3",
   "version": "3.11.9"
  }
 },
 "nbformat": 4,
 "nbformat_minor": 2
}
